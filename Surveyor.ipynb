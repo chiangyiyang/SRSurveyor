{
 "cells": [
  {
   "cell_type": "markdown",
   "metadata": {},
   "source": [
    "# **遙控偵測車**"
   ]
  },
  {
   "cell_type": "markdown",
   "metadata": {},
   "source": [
    "### 首先重設CSI Camera"
   ]
  },
  {
   "cell_type": "code",
   "execution_count": 1,
   "metadata": {},
   "outputs": [
    {
     "name": "stdout",
     "output_type": "stream",
     "text": [
      "[sudo] password for nano: \n"
     ]
    }
   ],
   "source": [
    "!echo 'nano1111' | sudo -S systemctl restart nvargus-daemon && printf '\\n'  # Reset CSI Camera"
   ]
  },
  {
   "cell_type": "markdown",
   "metadata": {},
   "source": [
    "### 載入套件"
   ]
  },
  {
   "cell_type": "code",
   "execution_count": 3,
   "metadata": {},
   "outputs": [],
   "source": [
    "from ipywidgets import widgets\n",
    "from IPython.display import display\n",
    "\n",
    "from jetcam.utils import bgr8_to_jpeg\n",
    "from jetcam.csi_camera import CSICamera\n",
    "from jetbot import Robot\n",
    "from SRDevice import Device"
   ]
  },
  {
   "cell_type": "markdown",
   "metadata": {},
   "source": [
    "### 建立物件"
   ]
  },
  {
   "cell_type": "code",
   "execution_count": 4,
   "metadata": {},
   "outputs": [],
   "source": [
    "robot = Robot()\n",
    "camera = CSICamera(width=384, height=216)\n",
    "controller = widgets.Controller(index=0)\n",
    "dev = Device()\n"
   ]
  },
  {
   "cell_type": "markdown",
   "metadata": {},
   "source": [
    "### 建構監視畫面"
   ]
  },
  {
   "cell_type": "code",
   "execution_count": 11,
   "metadata": {},
   "outputs": [
    {
     "data": {
      "application/vnd.jupyter.widget-view+json": {
       "model_id": "e5e91d4bbeb24661b8a4cb5b91da4e9a",
       "version_major": 2,
       "version_minor": 0
      },
      "text/plain": [
       "VBox(children=(Image(value=b'\\xff\\xd8\\xff\\xe0\\x00\\x10JFIF\\x00\\x01\\x01\\x00\\x00\\x01\\x00\\x01\\x00\\x00\\xff\\xdb\\x00C…"
      ]
     },
     "metadata": {},
     "output_type": "display_data"
    },
    {
     "data": {
      "application/vnd.jupyter.widget-view+json": {
       "model_id": "9b607c5328cf4021b29d0922fea391e8",
       "version_major": 2,
       "version_minor": 0
      },
      "text/plain": [
       "Controller(axes=(Axis(value=-0.003921568393707275), Axis(value=-0.003921568393707275), Axis(value=1.0), Axis(v…"
      ]
     },
     "metadata": {},
     "output_type": "display_data"
    }
   ],
   "source": [
    "image = camera.read()\n",
    "current_image = widgets.Image(format='jpeg', width=384, height=216)\n",
    "current_image.value = bgr8_to_jpeg(image)\n",
    "\n",
    "snapshot_image = widgets.Image(format='jpeg', width=192, height=108)\n",
    "snapshot_image.value = bgr8_to_jpeg(image)\n",
    "\n",
    "lab_t = widgets.Label(value='溫度')\n",
    "lab_h = widgets.Label(value='濕度')\n",
    "lab_gas = widgets.Label(value='瓦斯')\n",
    "lab_pir = widgets.Label(value='人體')\n",
    "\n",
    "info_container = widgets.HBox([lab_t, lab_h, lab_gas, lab_pir])\n",
    "control_container = widgets.VBox([current_image, info_container, snapshot_image])\n",
    "\n",
    "display(control_container)\n",
    "display(controller)"
   ]
  },
  {
   "cell_type": "markdown",
   "metadata": {},
   "source": [
    "### 連線"
   ]
  },
  {
   "cell_type": "code",
   "execution_count": 17,
   "metadata": {},
   "outputs": [],
   "source": [
    "def update_image(change):\n",
    "    image = change['new']\n",
    "    current_image.value = bgr8_to_jpeg(image)\n",
    "    \n",
    "camera.running = True\n",
    "camera.observe(update_image, names='value')"
   ]
  },
  {
   "cell_type": "code",
   "execution_count": 18,
   "metadata": {},
   "outputs": [],
   "source": [
    "def update_turn(change):\n",
    "    speed = change['new']/3\n",
    "    robot.left_motor.value = speed\n",
    "    robot.right_motor.value = -speed\n",
    "\n",
    "def update_direction(change):\n",
    "    speed = change['new']/3\n",
    "    robot.left_motor.value = -speed\n",
    "    robot.right_motor.value = -speed\n",
    "\n",
    "controller.axes[0].observe(update_turn, names='value')    \n",
    "controller.axes[1].observe(update_direction, names='value')"
   ]
  },
  {
   "cell_type": "code",
   "execution_count": 19,
   "metadata": {},
   "outputs": [],
   "source": [
    "def update_info(change):\n",
    "    info = change['new']\n",
    "#     print(info)\n",
    "    try:\n",
    "        (type, t, h, g, p) = info.split(' ')\n",
    "        if type=='DATA:':\n",
    "            lab_t.value = '溫度: ' + t + '°C'\n",
    "            lab_h.value = '濕度: ' + h + '%'\n",
    "            lab_gas.value = '瓦斯: ' + ('有' if g == '0' else '無')\n",
    "            lab_pir.value = '人體: ' + ('有' if p == '1' else '無')\n",
    "    except:\n",
    "        print('ERR')\n",
    "        \n",
    "dev.running = True\n",
    "dev.observe(update_info, names='value')\n"
   ]
  },
  {
   "cell_type": "code",
   "execution_count": 20,
   "metadata": {},
   "outputs": [],
   "source": [
    "def save_snapshot(change):\n",
    "    import uuid\n",
    "    # save snapshot when button is pressed down\n",
    "    if change['new']:\n",
    "        file_path = 'snapshots/' + str(uuid.uuid1()) + '.jpg'\n",
    "        \n",
    "        # write snapshot to file (we use image value instead of camera because it's already in JPEG format)\n",
    "        with open(file_path, 'wb') as f:\n",
    "            f.write(current_image.value)\n",
    "            \n",
    "        # display snapshot that was saved\n",
    "        snapshot_image.value = current_image.value\n",
    "\n",
    "controller.buttons[0].observe(save_snapshot, names='value')\n"
   ]
  },
  {
   "cell_type": "markdown",
   "metadata": {},
   "source": [
    "### 離線"
   ]
  },
  {
   "cell_type": "code",
   "execution_count": 16,
   "metadata": {},
   "outputs": [],
   "source": [
    "camera.unobserve(update_image, names='value')\n",
    "camera.running = False\n",
    "\n",
    "controller.axes[0].unobserve(update_turn, names='value')\n",
    "controller.axes[1].unobserve(update_direction, names='value')\n",
    "controller.buttons[0].unobserve(save_snapshot, names='value')\n",
    "\n",
    "dev.unobserve(update_info, names='value')\n",
    "dev.running = False"
   ]
  },
  {
   "cell_type": "code",
   "execution_count": null,
   "metadata": {},
   "outputs": [],
   "source": []
  }
 ],
 "metadata": {
  "kernelspec": {
   "display_name": "Python 3",
   "language": "python",
   "name": "python3"
  },
  "language_info": {
   "codemirror_mode": {
    "name": "ipython",
    "version": 3
   },
   "file_extension": ".py",
   "mimetype": "text/x-python",
   "name": "python",
   "nbconvert_exporter": "python",
   "pygments_lexer": "ipython3",
   "version": "3.6.8"
  }
 },
 "nbformat": 4,
 "nbformat_minor": 2
}
